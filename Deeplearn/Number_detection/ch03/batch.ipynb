{
 "cells": [
  {
   "cell_type": "markdown",
   "id": "3b0c8148-8d37-47fb-b940-e915ceabbac9",
   "metadata": {},
   "source": [
    "# 批处理"
   ]
  },
  {
   "cell_type": "code",
   "execution_count": 11,
   "id": "081a413d-fa8c-4fca-8a5e-7951a63ff6ae",
   "metadata": {},
   "outputs": [
    {
     "name": "stdout",
     "output_type": "stream",
     "text": [
      "Creating pickle file ...\n",
      "Done!\n",
      "Accuracy:0.9352\n",
      "Accuracy:0.9352\n"
     ]
    }
   ],
   "source": [
    "%run ./neuralnet_mnist.ipynb\n",
    "x,t = get_data()\n",
    "network = init_network()\n",
    "batch_size = 100 #数量\n",
    "accuracy_cnt = 0\n",
    "for i in range(0,len(x),batch_size):\n",
    "    x_batch = x[i:i+batch_size]\n",
    "    y_batch = predict(network,x_batch)\n",
    "    p = np.argmax(y_batch,axis=1)\n",
    "    accuracy_cnt +=np.sum(p== t[i:i+batch_size])\n",
    "print(\"Accuracy:\"+str(float(accuracy_cnt)/len(x)))"
   ]
  },
  {
   "cell_type": "code",
   "execution_count": 13,
   "id": "9599cb90-e105-41fd-b029-02e21064614c",
   "metadata": {},
   "outputs": [
    {
     "data": {
      "text/plain": [
       "[0, 1, 2, 3, 4, 5, 6, 7, 8, 9]"
      ]
     },
     "execution_count": 13,
     "metadata": {},
     "output_type": "execute_result"
    }
   ],
   "source": [
    "list(range(0,10))"
   ]
  },
  {
   "cell_type": "code",
   "execution_count": 16,
   "id": "2b5ca896-a16c-44dd-b132-577565708c0a",
   "metadata": {},
   "outputs": [
    {
     "name": "stdout",
     "output_type": "stream",
     "text": [
      "[[0.1 0.8 0.1]\n",
      " [0.3 0.1 0.6]\n",
      " [0.2 0.5 0.3]\n",
      " [0.8 0.1 0.1]]\n"
     ]
    }
   ],
   "source": [
    "x = np.array([[0.1,0.8,0.1],[0.3,0.1,0.6],[0.2,0.5,0.3],[0.8,0.1,0.1]])\n",
    "print(x)"
   ]
  },
  {
   "cell_type": "code",
   "execution_count": 17,
   "id": "b65ce190-d550-425a-b535-792a8f3633e7",
   "metadata": {},
   "outputs": [
    {
     "name": "stdout",
     "output_type": "stream",
     "text": [
      "[1 2 1 0]\n"
     ]
    }
   ],
   "source": [
    "y = np.argmax(x,axis=1)\n",
    "print(y)"
   ]
  }
 ],
 "metadata": {
  "kernelspec": {
   "display_name": "Python 3 (ipykernel)",
   "language": "python",
   "name": "python3"
  },
  "language_info": {
   "codemirror_mode": {
    "name": "ipython",
    "version": 3
   },
   "file_extension": ".py",
   "mimetype": "text/x-python",
   "name": "python",
   "nbconvert_exporter": "python",
   "pygments_lexer": "ipython3",
   "version": "3.11.7"
  }
 },
 "nbformat": 4,
 "nbformat_minor": 5
}
