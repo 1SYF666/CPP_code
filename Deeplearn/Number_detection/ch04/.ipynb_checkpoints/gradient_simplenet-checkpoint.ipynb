{
 "cells": [
  {
   "cell_type": "code",
   "execution_count": 5,
   "id": "64a74390-8b9b-4f3f-a7fd-95a4ecce6e00",
   "metadata": {},
   "outputs": [
    {
     "name": "stdout",
     "output_type": "stream",
     "text": [
      "[[ 0.2469149   0.26695689 -0.51387179]\n",
      " [ 0.37037236  0.40043533 -0.77080769]]\n"
     ]
    }
   ],
   "source": [
    "import numpy as np\n",
    "%run ../common/functions.ipynb\n",
    "%run ../common/gradient.ipynb\n",
    "class simpleNet:\n",
    "    def __init__(self):\n",
    "        self.W = np.random.randn(2,3) # 用高斯分布进行初始化\n",
    "    def predict(self, x):\n",
    "        return np.dot(x, self.W)\n",
    "    def loss(self, x, t):\n",
    "        z = self.predict(x)\n",
    "        y = softmax(z)\n",
    "        loss = cross_entropy_error(y, t)\n",
    "        return loss\n",
    "\n",
    "x = np.array([0.6,0.9])\n",
    "t = np.array([0,0,1])\n",
    "net = simpleNet()   # 声明类\n",
    "f = lambda w: net.loss(x,t)\n",
    "dW = numerical_gradient(f,net.W)\n",
    "print(dW)"
   ]
  }
 ],
 "metadata": {
  "kernelspec": {
   "display_name": "Python 3 (ipykernel)",
   "language": "python",
   "name": "python3"
  },
  "language_info": {
   "codemirror_mode": {
    "name": "ipython",
    "version": 3
   },
   "file_extension": ".py",
   "mimetype": "text/x-python",
   "name": "python",
   "nbconvert_exporter": "python",
   "pygments_lexer": "ipython3",
   "version": "3.11.7"
  }
 },
 "nbformat": 4,
 "nbformat_minor": 5
}
