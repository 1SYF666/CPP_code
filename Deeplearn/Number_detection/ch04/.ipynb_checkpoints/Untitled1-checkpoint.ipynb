{
 "cells": [
  {
   "cell_type": "code",
   "execution_count": null,
   "id": "19e73b05-b5d1-48aa-827c-29b2541fb718",
   "metadata": {},
   "outputs": [],
   "source": [
    "import pdb\n",
    "a = 1\n",
    "b = 2\n",
    "print(a)\n",
    "pdb.set_trace()"
   ]
  }
 ],
 "metadata": {
  "kernelspec": {
   "display_name": "Python 3.11 (XPython)",
   "language": "python",
   "name": "xpython"
  },
  "language_info": {
   "file_extension": ".py",
   "mimetype": "text/x-python",
   "name": "python",
   "version": "3.11.7"
  }
 },
 "nbformat": 4,
 "nbformat_minor": 5
}
