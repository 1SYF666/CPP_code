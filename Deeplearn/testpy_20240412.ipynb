{
 "cells": [
  {
   "cell_type": "markdown",
   "id": "d923f45b-fddd-4db7-a06f-92a477af74a1",
   "metadata": {},
   "source": [
    "## python 脚本文件"
   ]
  },
  {
   "cell_type": "markdown",
   "id": "6e070cd0-9982-4207-849e-b3b1e06799c8",
   "metadata": {},
   "source": [
    "### 保存为文件"
   ]
  },
  {
   "cell_type": "code",
   "execution_count": 5,
   "id": "7be0681d-5837-49d3-a8e9-ea8d89106d72",
   "metadata": {},
   "outputs": [
    {
     "name": "stdout",
     "output_type": "stream",
     "text": [
      "I'm hungry!\n"
     ]
    }
   ],
   "source": [
    "print(\"I'm hungry!\")"
   ]
  },
  {
   "cell_type": "markdown",
   "id": "293562ed-ecc4-4893-b9de-fe953f4ecf4f",
   "metadata": {},
   "source": [
    "### 类"
   ]
  },
  {
   "cell_type": "code",
   "execution_count": 7,
   "id": "28b27988-a3b4-4c06-8caf-c607df50bee2",
   "metadata": {},
   "outputs": [
    {
     "name": "stdout",
     "output_type": "stream",
     "text": [
      "Initialized!\n",
      "HelloDavid!\n",
      "Good-bye David!\n"
     ]
    }
   ],
   "source": [
    "class Man:\n",
    "    def __init__(self,name):\n",
    "        self.name = name;\n",
    "        print(\"Initialized!\")\n",
    "    def hello(self):\n",
    "        print(\"Hello\" + self.name + \"!\" )\n",
    "    def goodbye(self):\n",
    "        print(\"Good-bye \"+ self.name + \"!\")\n",
    "m = Man(\"David\")\n",
    "m.hello()\n",
    "m.goodbye()"
   ]
  },
  {
   "cell_type": "markdown",
   "id": "6de8ba4a-fb44-4ae5-add8-cf8b70c01c35",
   "metadata": {},
   "source": [
    "## Numpy"
   ]
  },
  {
   "cell_type": "code",
   "execution_count": 12,
   "id": "ce52ef9f-21b0-4046-9b01-2c288d123f77",
   "metadata": {},
   "outputs": [
    {
     "name": "stdout",
     "output_type": "stream",
     "text": [
      "[1. 2. 3.]\n"
     ]
    },
    {
     "data": {
      "text/plain": [
       "numpy.ndarray"
      ]
     },
     "execution_count": 12,
     "metadata": {},
     "output_type": "execute_result"
    }
   ],
   "source": [
    "import numpy as np\n",
    "x = np.array([1.0,2.0,3.0])\n",
    "print(x)\n",
    "type(x)"
   ]
  }
 ],
 "metadata": {
  "kernelspec": {
   "display_name": "Python 3 (ipykernel)",
   "language": "python",
   "name": "python3"
  },
  "language_info": {
   "codemirror_mode": {
    "name": "ipython",
    "version": 3
   },
   "file_extension": ".py",
   "mimetype": "text/x-python",
   "name": "python",
   "nbconvert_exporter": "python",
   "pygments_lexer": "ipython3",
   "version": "3.11.7"
  }
 },
 "nbformat": 4,
 "nbformat_minor": 5
}
