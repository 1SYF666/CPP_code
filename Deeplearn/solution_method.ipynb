{
 "cells": [
  {
   "cell_type": "markdown",
   "id": "97d3c1bb-a381-4aa8-9493-1fe899e20707",
   "metadata": {},
   "source": [
    "## 如何解决GitHub上传代码需要登录的问题\r\n",
    "\r\n",
    "### 使用用户名和密码\r\n",
    "\r\n",
    "1. 在提示的登录窗口中输入你的GitHub用户名和密码进行登录。\r\n",
    "\r\n",
    "### 生成并使用Personal Access Token (PAT)\r\n",
    "\r\n",
    "1. GitHub不再支持直接使用用户名和密码进行登录，你需要创建一个Personal Access Token来替代密码。\r\n",
    "2. 访问GitHub，进入Settings -> Developer settings -> Personal access tokens -> Generate new token。\r\n",
    "3. 生成一个新的token，并在登录窗口中使用你的用户名和生成的token来进行登录。\r\n",
    "\r\n",
    "### 配置SSH密钥\r\n",
    "\r\n",
    "1. 生成一个SSH密钥，并将公钥添加到你的GitHub账户中。\r\n",
    "2. 在本地终端中运行以下命令生成SSH密钥（如果你还没有的话）：\r\n",
    "   ```bash\r\n",
    "   ssh-keygen -t rsa -b 4096 -C \"your_eail@example.com\"\r\n"
   ]
  },
  {
   "cell_type": "markdown",
   "id": "792cf14a-b749-4736-a1ba-bb1b7aea40fb",
   "metadata": {},
   "source": [
    "## 生成Personal Access Token\r\n",
    "\r\n",
    "### 选择合适的选项\r\n",
    "\r\n",
    "在“Personal access tokens”下面有两个选项：\r\n",
    "\r\n",
    "1. **Fine-grained tokens (Beta)**\r\n",
    "2. **Tokens (classic)**\r\n",
    "\r\n",
    "建议使用 **Tokens (classic)**，因为它是目前更常用和稳定的选项。\r\n",
    "\r\n",
    "### 生成classic token的步骤\r\n",
    "\r\n",
    "1. 点击“Tokens (classic)”。\r\n",
    "2. 点击“Generate new token”。\r\n",
    "3. 填写token的描述，例如“Git push token”。\r\n",
    "4. 选择你需要的权限。对于推送代码，你至少需要选择`repo`权限（如果你不确定，可以选择`repo`的所有子选项）。\r\n",
    "5. 点击“Generate token”按钮。\r\n",
    "6. 生成的token会显示在屏幕上。确保你复制并保存好这个token，因为它只会显示一次。\r\n",
    "\r\n",
    "### 使用生成的token\r\n",
    "\r\n",
    "生成token后，可以在需要登录GitHub时使用这个token代替密码进行验证。\r\n"
   ]
  }
 ],
 "metadata": {
  "kernelspec": {
   "display_name": "Python 3 (ipykernel)",
   "language": "python",
   "name": "python3"
  },
  "language_info": {
   "codemirror_mode": {
    "name": "ipython",
    "version": 3
   },
   "file_extension": ".py",
   "mimetype": "text/x-python",
   "name": "python",
   "nbconvert_exporter": "python",
   "pygments_lexer": "ipython3",
   "version": "3.11.7"
  }
 },
 "nbformat": 4,
 "nbformat_minor": 5
}
